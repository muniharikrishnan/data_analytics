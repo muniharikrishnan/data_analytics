{
 "cells": [
  {
   "cell_type": "code",
   "execution_count": null,
   "metadata": {
    "vscode": {
     "languageId": "plaintext"
    }
   },
   "outputs": [],
   "source": [
    "#numpy and random and randint\n",
    "from numpy import random\n",
    "r1=random.randint(999)\n",
    "print(r1)\n",
    "r1_arr=random.randint(999,size=(5))\n",
    "print(r1_arr)\n",
    "r2_arr=random.randint(999,size=(2,4))\n",
    "print(r2_arr)\n",
    "r3_arr=random.randint(999,size=(2,3,3))\n",
    "print(r3_arr)"
   ]
  }
 ],
 "metadata": {
  "language_info": {
   "name": "python"
  }
 },
 "nbformat": 4,
 "nbformat_minor": 2
}
