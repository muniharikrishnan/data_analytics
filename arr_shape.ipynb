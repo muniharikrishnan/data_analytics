{
 "cells": [
  {
   "cell_type": "code",
   "execution_count": null,
   "metadata": {
    "vscode": {
     "languageId": "plaintext"
    }
   },
   "outputs": [],
   "source": [
    "#shape'\n",
    "array=np.array([1,2,3,4])\n",
    "print(array.shape)\n",
    "array2=np.array([[1,2,3,4],[5,6,7,8]])\n",
    "print(array2.shape)\n",
    "array3=np.array([[[1,2],[3,4]],[[6,7],[8,9]]])\n",
    "print(array3.shape)\n",
    "array4=np.array([[1,2,3],[4,5,6],[7,8,9],[10,11,12]])\n",
    "print(array4.shape)\n",
    "array5=np.array([[[1,2,3],[4,5,6],[7,8,9]],[[10,11,12],[13,14,15],[16,17,18]],[[10,11,12],[13,14,15],[16,17,18]]])\n",
    "print(array5.shape)"
   ]
  }
 ],
 "metadata": {
  "language_info": {
   "name": "python"
  }
 },
 "nbformat": 4,
 "nbformat_minor": 2
}
