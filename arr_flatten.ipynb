{
 "cells": [
  {
   "cell_type": "code",
   "execution_count": null,
   "metadata": {
    "vscode": {
     "languageId": "plaintext"
    }
   },
   "outputs": [],
   "source": [
    "#flattend the nd arrays\n",
    "arr1=np.array([[1,2,3],[4,5,6],[7,8,9]])\n",
    "arr1=arr1.flatten()\n",
    "print(arr1)\n",
    "arr2=np.array([[[1,2,3],[6,7,8]],[[9,10,11],[12,13,14]]])\n",
    "arr2=arr2.flatten()\n",
    "print(arr2)"
   ]
  }
 ],
 "metadata": {
  "language_info": {
   "name": "python"
  }
 },
 "nbformat": 4,
 "nbformat_minor": 2
}
