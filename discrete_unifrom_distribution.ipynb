#discrete uniform distribution
discrete_uniform_distribution=random.randint(low=5,high=10,size=(4,3))
print(discrete_uniform_distribution)
