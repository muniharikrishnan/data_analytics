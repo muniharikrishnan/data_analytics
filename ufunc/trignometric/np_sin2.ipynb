{
 "cells": [
  {
   "cell_type": "code",
   "execution_count": null,
   "metadata": {
    "vscode": {
     "languageId": "plaintext"
    }
   },
   "outputs": [],
   "source": [
    "import numpy as np\n",
    "\n",
    "arr = np.array([np.pi/2, np.pi/3, np.pi/4, np.pi/5])\n",
    "\n",
    "x = np.sin(arr)\n",
    "\n",
    "print(x)\n"
   ]
  }
 ],
 "metadata": {
  "language_info": {
   "name": "python"
  }
 },
 "nbformat": 4,
 "nbformat_minor": 2
}
