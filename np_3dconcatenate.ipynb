{
 "cells": [
  {
   "cell_type": "code",
   "execution_count": null,
   "metadata": {
    "vscode": {
     "languageId": "plaintext"
    }
   },
   "outputs": [],
   "source": [
    "#np concatenate for 3 dimension\n",
    "arr1=np.array([[[1,2,3],[4,5,6]],[[7,8,9],[10,11,12]]])\n",
    "arr2=np.array([[[13,14,15],[16,17,18]],[[19,20,21],[22,23,24]]])\n",
    "print(np.concatenate((arr1,arr2),axis=0))\n",
    "print()\n",
    "print(np.concatenate((arr1,arr2),axis=1))\n",
    "print()\n",
    "print(np.concatenate((arr1,arr2),axis=2))"
   ]
  }
 ],
 "metadata": {
  "language_info": {
   "name": "python"
  }
 },
 "nbformat": 4,
 "nbformat_minor": 2
}
