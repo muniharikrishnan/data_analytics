{
 "cells": [
  {
   "cell_type": "code",
   "execution_count": null,
   "metadata": {
    "vscode": {
     "languageId": "plaintext"
    }
   },
   "outputs": [],
   "source": [
    "import pandas as pd\n",
    "\n",
    "# Sample data with some missing values\n",
    "data = {\n",
    "    'Name': ['Alice', 'Bob', 'Charlie', 'David', 'Eve'],\n",
    "    'Age': [24, None, 22, 23, None],\n",
    "    'Score': [85, 90, None, 88, 76]\n",
    "}\n",
    "\n",
    "# Create a DataFrame\n",
    "df = pd.DataFrame(data)\n",
    "\n",
    "# 1. Detecting Missing Values\n",
    "print(\"DataFrame with Missing Values:\")\n",
    "print(df.isna())\n",
    "\n",
    "# 2. Counting Missing Values by Column\n",
    "print(\"\\nCount of Missing Values by Column:\")\n",
    "print(df.isna().sum())\n",
    "\n",
    "# 3. Dropping Rows with Missing Values\n",
    "df_dropped = df.dropna()\n",
    "print(\"\\nDataFrame after Dropping Rows with Missing Values:\")\n",
    "print(df_dropped)\n",
    "\n",
    "# 4. Filling Missing Values with a Specific Value (e.g., 0)\n",
    "df_filled = df.fillna(0)\n",
    "print(\"\\nDataFrame after Filling Missing Values with 0:\")\n",
    "print(df_filled)\n",
    "\n",
    "# 5. Filling Missing Values with Column Mean (for numerical columns)\n",
    "df['Age'] = df['Age'].fillna(df['Age'].mean())\n",
    "df['Score'] = df['Score'].fillna(df['Score'].mean())\n",
    "print(\"\\nDataFrame after Filling Missing Values with Column Mean:\")\n",
    "print(df)\n"
   ]
  }
 ],
 "metadata": {
  "language_info": {
   "name": "python"
  }
 },
 "nbformat": 4,
 "nbformat_minor": 2
}
