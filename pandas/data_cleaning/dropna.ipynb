{
 "cells": [
  {
   "cell_type": "code",
   "execution_count": null,
   "metadata": {
    "vscode": {
     "languageId": "plaintext"
    }
   },
   "outputs": [],
   "source": [
    "import pandas as pd\n",
    "df=pd.read_csv(\"/content/cricket.csv\")\n",
    "print(df)\n",
    "\n",
    "df.dropna(inplace = True)\n",
    "print(df.to_string())\n",
    "df2=df.dropna()\n",
    "print(df2.to_string())"
   ]
  }
 ],
 "metadata": {
  "language_info": {
   "name": "python"
  }
 },
 "nbformat": 4,
 "nbformat_minor": 2
}
