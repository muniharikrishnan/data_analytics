{
 "cells": [
  {
   "cell_type": "code",
   "execution_count": null,
   "metadata": {
    "vscode": {
     "languageId": "plaintext"
    }
   },
   "outputs": [],
   "source": [
    "# replace the values with null values using fill naa\n",
    "# df.fillna(130,inplace=True)\n",
    "# print(df.to_string())\n",
    "# print(df.to_string())\n",
    "df[\"avg\"]=pd.to_numeric(df[\"avg\"],errors=\"coerce\")\n",
    "mean=df[\"avg\"].mean()\n",
    "# print(mean)\n",
    "df[\"avg\"].fillna(mean,inplace=True)\n",
    "# print(df.to_string())\n",
    "df[\"sixes\"]=pd.to_numeric(df[\"sixes\"],errors=\"coerce\")\n",
    "df[\"sixes\"].fillna(df[\"sixes\"].mean(),inplace=True)\n",
    "# print(df.to_string())\n",
    "df[\"fours\"]=pd.to_numeric(df[\"fours\"],errors=\"coerce\")\n",
    "df[\"fours\"].fillna(df[\"fours\"].mean(),inplace=True)\n",
    "# print(df.to_string())\n",
    "df[\"runs\"]=pd.to_numeric(df[\"runs\"],errors=\"coerce\")\n",
    "df[\"runs\"].fillna(df[\"runs\"].mean(),inplace=True)\n",
    "print(df.to_string())\n"
   ]
  }
 ],
 "metadata": {
  "language_info": {
   "name": "python"
  }
 },
 "nbformat": 4,
 "nbformat_minor": 2
}
