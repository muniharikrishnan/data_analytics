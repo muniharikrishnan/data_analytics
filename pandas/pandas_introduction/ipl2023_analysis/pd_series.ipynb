{
 "cells": [
  {
   "cell_type": "code",
   "execution_count": null,
   "metadata": {
    "vscode": {
     "languageId": "plaintext"
    }
   },
   "outputs": [],
   "source": [
    "#padnas series with index\n",
    "x=[1,2,3]\n",
    "a=pd.Series(x,index=[\"a\",\"b\",\"c\"])\n",
    "print(a)"
   ]
  }
 ],
 "metadata": {
  "language_info": {
   "name": "python"
  }
 },
 "nbformat": 4,
 "nbformat_minor": 2
}
