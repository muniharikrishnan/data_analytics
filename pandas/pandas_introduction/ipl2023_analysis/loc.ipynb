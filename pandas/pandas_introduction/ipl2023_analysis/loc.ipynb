{
 "cells": [
  {
   "cell_type": "code",
   "execution_count": null,
   "metadata": {
    "vscode": {
     "languageId": "plaintext"
    }
   },
   "outputs": [],
   "source": [
    "datas={\"calories\":[420,380,390],\"duration\":[50,40,45]}\n",
    "df=pd.DataFrame(datas)\n",
    "print(df)\n",
    "print(df.loc[[1,2,0]])"
   ]
  }
 ],
 "metadata": {
  "language_info": {
   "name": "python"
  }
 },
 "nbformat": 4,
 "nbformat_minor": 2
}
