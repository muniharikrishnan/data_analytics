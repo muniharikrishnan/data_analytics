{
 "cells": [
  {
   "cell_type": "code",
   "execution_count": null,
   "metadata": {
    "vscode": {
     "languageId": "plaintext"
    }
   },
   "outputs": [],
   "source": [
    "#random,shuffle and random.permuatation\n",
    "from numpy import random\n",
    "import numpy as np\n",
    "arr=np.array([1,2,3,4,5])\n",
    "random.shuffle(arr)\n",
    "arr2=np.array([3,4,5,7,8])\n",
    "p_arr=random.permutation([arr2])\n",
    "print(p_arr)\n",
    "print(arr)\n",
    "print(arr2)"
   ]
  }
 ],
 "metadata": {
  "language_info": {
   "name": "python"
  }
 },
 "nbformat": 4,
 "nbformat_minor": 2
}
