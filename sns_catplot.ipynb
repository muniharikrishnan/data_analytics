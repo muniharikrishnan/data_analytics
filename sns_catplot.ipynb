{
 "cells": [
  {
   "cell_type": "code",
   "execution_count": null,
   "metadata": {
    "vscode": {
     "languageId": "plaintext"
    }
   },
   "outputs": [],
   "source": [
    "#sns.catplot\n",
    "sns.catplot(data=df1,x=\"species\",y=\"sepal_length\",kind=\"violin\")\n",
    "sns.catplot(data=df1,x=\"species\",y=\"sepal_length\")\n",
    "sns.catplot(data=df1,x=\"species\",y=\"sepal_length\",kind=\"bar\")\n",
    "sns.catplot(data=df1,x=\"species\",y=\"sepal_length\",kind=\"box\")\n",
    "sns.catplot(data=df1,x=\"species\",y=\"sepal_length\",kind=\"swarm\")\n",
    "sns.catplot(data=df1,x=\"species\",y=\"sepal_length\",kind=\"point\")\n"
   ]
  }
 ],
 "metadata": {
  "language_info": {
   "name": "python"
  }
 },
 "nbformat": 4,
 "nbformat_minor": 2
}
