{
 "cells": [
  {
   "cell_type": "code",
   "execution_count": null,
   "metadata": {
    "vscode": {
     "languageId": "plaintext"
    }
   },
   "outputs": [],
   "source": [
    "#np concatenate two dimension\n",
    "arr1=np.array([[1,2,3],[4,5,6]])\n",
    "arr2=np.array([[6,7,8],[9,10,11]])\n",
    "arr3=np.concatenate((arr1,arr2),axis=1)\n",
    "print(arr3)\n",
    "arr4=np.concatenate((arr1,arr2),axis=0)\n",
    "print(arr4)"
   ]
  }
 ],
 "metadata": {
  "language_info": {
   "name": "python"
  }
 },
 "nbformat": 4,
 "nbformat_minor": 2
}
