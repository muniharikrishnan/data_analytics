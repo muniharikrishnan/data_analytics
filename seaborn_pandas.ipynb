{
 "cells": [
  {
   "cell_type": "code",
   "execution_count": null,
   "metadata": {
    "vscode": {
     "languageId": "plaintext"
    }
   },
   "outputs": [],
   "source": [
    "#seabon\n",
    "!pip install seaborn\n",
    "import seaborn as sns\n",
    "import pandas as pd\n",
    "dataset=pd.read_csv(\"/content/country_wise_latest.csv\")\n",
    "print(dataset.head())\n",
    "print(dataset.tail())\n",
    "print(dataset.shape)\n",
    "print(dataset.info())\n",
    "print(dataset.describe())"
   ]
  }
 ],
 "metadata": {
  "language_info": {
   "name": "python"
  }
 },
 "nbformat": 4,
 "nbformat_minor": 2
}
