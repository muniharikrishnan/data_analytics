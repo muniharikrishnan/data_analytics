{
 "cells": [
  {
   "cell_type": "code",
   "execution_count": null,
   "metadata": {
    "vscode": {
     "languageId": "plaintext"
    }
   },
   "outputs": [],
   "source": [
    "#iterating\n",
    "lists=np.array([1,2,3,4])\n",
    "for i in lists:\n",
    "  print(i)\n",
    "\n",
    "lists2=np.array([[1,2,3],[4,5,6]])\n",
    "for i in lists2:\n",
    "  print(i)\n",
    "  for j in i:\n",
    "    print(j)\n",
    "list3=np.array([[[1,2],[3,4],[5,6]],[[7,8],[9,10],[11,12]]])\n",
    "for i in list3:\n",
    "  for j in i:\n",
    "    for k in j:\n",
    "      print(k)"
   ]
  }
 ],
 "metadata": {
  "language_info": {
   "name": "python"
  }
 },
 "nbformat": 4,
 "nbformat_minor": 2
}
