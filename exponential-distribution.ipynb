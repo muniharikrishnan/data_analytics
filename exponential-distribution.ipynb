#exponential distribution
exponential=random.exponential(scale=2,size=(3,4))
print(exponential)
