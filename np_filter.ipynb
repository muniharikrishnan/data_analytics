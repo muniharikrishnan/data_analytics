{
 "cells": [
  {
   "cell_type": "code",
   "execution_count": null,
   "metadata": {
    "vscode": {
     "languageId": "plaintext"
    }
   },
   "outputs": [],
   "source": [
    "# numpy filter the array\n",
    "print(arr1)\n",
    "filter_arr=[True,True,False,True,False,False,True]\n",
    "print(filter_arr)\n",
    "arr1=arr1[filter_arr]\n",
    "print(arr1)\n",
    "arr2=np.array([1,2,4,5,6])\n",
    "f_arr=arr2%2==0\n",
    "arr2=arr2[f_arr]\n",
    "print(arr2)\n",
    "\n",
    "\n",
    "ar3=np.array([2,5,56,78,99,100])\n",
    "filter_arr=ar3>45\n",
    "ar3=ar3[filter_arr]\n",
    "print(ar3)\n",
    "\n",
    "\n",
    "a2d=np.array([[1,2,3],[5,6,7]])\n",
    "filter=a2d%2!=0\n",
    "a2d=a2d[filter]\n",
    "print(a2d)\n",
    "\n",
    "\n",
    "a3d=np.array([[[1,2,3],[4,5,6]],[[7,8,9],[10,11,12]]])\n",
    "filter=a3d%2!=0\n",
    "a3d=a3d[filter]\n",
    "print(a3d)\n",
    "\n"
   ]
  }
 ],
 "metadata": {
  "language_info": {
   "name": "python"
  }
 },
 "nbformat": 4,
 "nbformat_minor": 2
}
