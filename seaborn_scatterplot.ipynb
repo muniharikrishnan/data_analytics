{
 "cells": [
  {
   "cell_type": "code",
   "execution_count": null,
   "metadata": {
    "vscode": {
     "languageId": "plaintext"
    }
   },
   "outputs": [],
   "source": [
    "#sns.scatterplot()\n",
    "import seaborn as sns\n",
    "import pandas as pd\n",
    "df=pd.read_csv(\"/content/country_wise_latest.csv\")\n",
    "\n",
    "sns.scatterplot(x=\"Country/Region\",y=\"Active\",data=df,hue=\"WHO Region\",palette=\"coolwarm\")"
   ]
  }
 ],
 "metadata": {
  "language_info": {
   "name": "python"
  }
 },
 "nbformat": 4,
 "nbformat_minor": 2
}
