{
 "cells": [
  {
   "cell_type": "code",
   "execution_count": null,
   "metadata": {
    "vscode": {
     "languageId": "plaintext"
    }
   },
   "outputs": [],
   "source": [
    "#slicing in np arrays\n",
    "print(arr[0:3])\n",
    "print(arr2[0,1:])\n",
    "print(arr2[0:2,0:2])\n",
    "print(arr3[0:2,0:2,1:4])"
   ]
  }
 ],
 "metadata": {
  "language_info": {
   "name": "python"
  }
 },
 "nbformat": 4,
 "nbformat_minor": 2
}
