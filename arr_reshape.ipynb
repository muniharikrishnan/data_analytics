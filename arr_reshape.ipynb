{
 "cells": [
  {
   "cell_type": "code",
   "execution_count": null,
   "metadata": {
    "vscode": {
     "languageId": "plaintext"
    }
   },
   "outputs": [],
   "source": [
    "#reshape\n",
    "arr1=np.array([1,2,3,5,6,6,8,9,0,7,10,11])\n",
    "# arr2=arr1.reshape(2,5)\n",
    "# print(arr2)\n",
    "arr3=np.array([[[1,2],[3,5],[6,7]],[[9,8],[10,11],[13,14]]])\n",
    "arr4=arr1.reshape(2,3,2)\n",
    "print(arr4)"
   ]
  }
 ],
 "metadata": {
  "language_info": {
   "name": "python"
  }
 },
 "nbformat": 4,
 "nbformat_minor": 2
}
