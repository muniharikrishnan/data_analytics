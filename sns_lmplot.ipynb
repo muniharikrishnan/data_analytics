{
 "cells": [
  {
   "cell_type": "code",
   "execution_count": null,
   "metadata": {
    "vscode": {
     "languageId": "plaintext"
    }
   },
   "outputs": [],
   "source": [
    "import seaborn as sns\n",
    "import pandas as pd\n",
    "tips=sns.load_dataset('tips')\n",
    "tips.head()\n",
    "sns.lmplot(x=\"total_bill\",y=\"tip\",data=tips,hue=\"smoker\",palette=\"coolwarm\",col=\"time\",row=\"sex\")"
   ]
  }
 ],
 "metadata": {
  "language_info": {
   "name": "python"
  }
 },
 "nbformat": 4,
 "nbformat_minor": 2
}
