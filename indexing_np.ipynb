{
 "cells": [
  {
   "cell_type": "code",
   "execution_count": null,
   "metadata": {
    "vscode": {
     "languageId": "plaintext"
    }
   },
   "outputs": [],
   "source": [
    "#indexing in numpy\n",
    "import numpy as np\n",
    "arr=np.array([1,2,3,4])\n",
    "arr2=np.array([[1,3,5],[2,4,6]])\n",
    "arr3=np.array([[[1,2,3,4],[5,6,7,8]],[[6,7,8,9],[10,11,12,13]]])\n",
    "print(arr.ndim,arr2.ndim,arr3.ndim)\n",
    "print(arr[0])\n",
    "print(arr2[0,1])\n",
    "print(arr3[1,0,3])"
   ]
  }
 ],
 "metadata": {
  "language_info": {
   "name": "python"
  }
 },
 "nbformat": 4,
 "nbformat_minor": 2
}
