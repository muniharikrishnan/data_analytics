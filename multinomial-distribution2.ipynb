#multinomail distribution
import numpy as np
from numpy import random
import seaborn as sns
import matplotlib.pyplot as plt
dies=random.multinomial(n=6,pvals=[1/6,1/6,1/6,1/6,1/6,1/6],size=(3,2))
print(dies)
