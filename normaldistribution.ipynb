#normal distribution   etc: iq score,hearbeat ,measuring distance etc
import numpy as np
import pandas as pd
import seaborn as sns
from numpy import random
print(random.normal(loc=2,scale=3,size=(2,3)))
sns.distplot(random.normal(loc=2,scale=3,size=(2,3)),kde=True)
# sns.displot(random.normal(loc=2,scale=3,size=(2,3)),kde=True)
