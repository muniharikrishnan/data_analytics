{
 "cells": [
  {
   "cell_type": "code",
   "execution_count": null,
   "metadata": {
    "vscode": {
     "languageId": "plaintext"
    }
   },
   "outputs": [],
   "source": [
    "#random.choice()\n",
    "from numpy import random\n",
    "r_arr=random.choice([1,5,6],p=[1.0,0.0,0.0],size=(3))\n",
    "print(r_arr)\n"
   ]
  }
 ],
 "metadata": {
  "language_info": {
   "name": "python"
  }
 },
 "nbformat": 4,
 "nbformat_minor": 2
}
