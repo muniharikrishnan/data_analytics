#binomial distribution
print(random.binomial(n=10,p=0.6,size=(10)))
sns.distplot(random.binomial(n=10,p=0.6,size=(10)))
