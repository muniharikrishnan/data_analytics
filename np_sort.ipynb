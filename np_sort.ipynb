{
 "cells": [
  {
   "cell_type": "code",
   "execution_count": null,
   "metadata": {
    "vscode": {
     "languageId": "plaintext"
    }
   },
   "outputs": [],
   "source": [
    "#np.sort sort the numpy arrays\n",
    "arr1=np.array([5,6,4,3,7,8,1])\n",
    "arr1=np.sort(arr1)\n",
    "print(arr1)\n",
    "arr2=np.array([[1,5,3],[7,5,8]])\n",
    "print(np.sort(arr2))\n",
    "arr3=np.array([[[1,2,4],[4,5,6],[88,66,77],[90,33,45]],[[12,4,45],[6,7,88],[44,33,25],[77,88,99]]])\n",
    "print(np.sort(arr3))"
   ]
  }
 ],
 "metadata": {
  "language_info": {
   "name": "python"
  }
 },
 "nbformat": 4,
 "nbformat_minor": 2
}
