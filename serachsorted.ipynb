{
 "cells": [
  {
   "cell_type": "code",
   "execution_count": null,
   "metadata": {
    "vscode": {
     "languageId": "plaintext"
    }
   },
   "outputs": [],
   "source": [
    "#search - we use np.searchsorted for find the elements in the array and it perfroms the binary search\n",
    "\n",
    "import numpy as np\n",
    "arrr1=np.array([1,2,3,4])\n",
    "print(np.searchsorted(arrr1,4))\n",
    "arrr2=np.array([[1,2,3],[4,5,6]])\n",
    "arrr3=arrr2.flatten()\n",
    "print(np.searchsorted(arrr3,5))"
   ]
  }
 ],
 "metadata": {
  "language_info": {
   "name": "python"
  }
 },
 "nbformat": 4,
 "nbformat_minor": 2
}
