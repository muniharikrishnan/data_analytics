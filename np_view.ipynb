{
 "cells": [
  {
   "cell_type": "code",
   "execution_count": null,
   "metadata": {
    "vscode": {
     "languageId": "plaintext"
    }
   },
   "outputs": [],
   "source": [
    "#view of numpy\n",
    "arr1=np.array([[1,2,3],[4,5,6]])\n",
    "arr2=arr1.view()\n",
    "print(arr1)\n",
    "print(arr2)\n",
    "arr2[0,1]=10\n",
    "print()\n",
    "print()\n",
    "arr1[1,2]=7\n",
    "print(arr1)\n",
    "print(arr2)"
   ]
  }
 ],
 "metadata": {
  "language_info": {
   "name": "python"
  }
 },
 "nbformat": 4,
 "nbformat_minor": 2
}
