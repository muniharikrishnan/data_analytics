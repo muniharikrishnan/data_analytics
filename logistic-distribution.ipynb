#logistic distribution
logistic=random.logistic(loc=3,scale=2,size=(2,5))
print(logistic)
