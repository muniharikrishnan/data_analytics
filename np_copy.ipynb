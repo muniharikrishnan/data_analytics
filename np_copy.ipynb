{
 "cells": [
  {
   "cell_type": "code",
   "execution_count": null,
   "metadata": {
    "vscode": {
     "languageId": "plaintext"
    }
   },
   "outputs": [],
   "source": [
    "#copy of numpy\n",
    "arr1=np.array([[1,2,3,4],[5,6,7,8]])\n",
    "arr2=arr1.copy()\n",
    "arr2[0,1]=10\n",
    "print(arr1)\n",
    "print(arr2)"
   ]
  }
 ],
 "metadata": {
  "language_info": {
   "name": "python"
  }
 },
 "nbformat": 4,
 "nbformat_minor": 2
}
