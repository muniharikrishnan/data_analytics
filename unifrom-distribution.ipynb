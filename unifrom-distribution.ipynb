#uniform distribution
from numpy import random
import matplotlib.pyplot as plt
import seaborn as sns
import numpy as np

print(random.uniform(size=(2,4)))
plt.show()
