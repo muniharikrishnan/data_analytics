#poisson distribution
from numpy import random
import seaborn as sns
poisson=random.poisson(lam=2,size=(10))
print(poisson)
sns.distplot(random.poisson(lam=2,size=(10)))
