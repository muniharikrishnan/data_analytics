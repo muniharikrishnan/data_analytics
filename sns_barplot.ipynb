{
 "cells": [
  {
   "cell_type": "code",
   "execution_count": null,
   "metadata": {
    "vscode": {
     "languageId": "plaintext"
    }
   },
   "outputs": [],
   "source": [
    "#sns.barplot()\n",
    "df.head(10)\n",
    "sns.barplot(x=\"WHO Region\",y=\"Deaths\",data=df)"
   ]
  }
 ],
 "metadata": {
  "language_info": {
   "name": "python"
  }
 },
 "nbformat": 4,
 "nbformat_minor": 2
}
