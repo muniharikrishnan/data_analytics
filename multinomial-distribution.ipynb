import numpy as np
import seaborn as sns
import matplotlib.pyplot as plt

# Parameters
n = 100  # Number of trials
pvals = [1/6] * 6  # Equal probability for each of the 6 outcomes

# Generate a single sample
sample = np.random.multinomial(n, pvals)

# Display the results
print("Counts for each die face (1-6):", sample)

# Visualization
faces = ['1', '2', '3', '4', '5', '6']
sns.barplot(x=faces, y=sample, palette='viridis')
plt.title('Multinomial Distribution: Rolling a Fair Six-Sided Die 100 Times')
plt.xlabel('Die Face')
plt.ylabel('Count')
plt.show()
